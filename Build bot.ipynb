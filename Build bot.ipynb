{
 "cells": [
  {
   "cell_type": "code",
   "execution_count": null,
   "id": "0fdc3923-1079-4485-b804-c645ffca1651",
   "metadata": {},
   "outputs": [],
   "source": [
    "import pandas as pd\n",
    "from pathlib import Path"
   ]
  },
  {
   "cell_type": "code",
   "execution_count": null,
   "id": "6a98568e-3829-459b-9570-f1565b4c9c57",
   "metadata": {},
   "outputs": [],
   "source": [
    "p = r'C:\\Users\\223099055.HCAD\\Downloads\\MEKARI_REVIEWS.csv'\n",
    "df = pd.read_csv(p)"
   ]
  },
  {
   "cell_type": "code",
   "execution_count": null,
   "id": "c628ba2b-4eb7-4b65-8d6b-a37e2bf42f03",
   "metadata": {},
   "outputs": [],
   "source": [
    "df.head()"
   ]
  },
  {
   "cell_type": "code",
   "execution_count": null,
   "id": "244154f7-b9b4-4647-a25f-9d37740ee859",
   "metadata": {},
   "outputs": [],
   "source": [
    "review_dir = Path(\"./reviews\").resolve()\n",
    "review_dir.mkdir(exist_ok=True, parents=True)"
   ]
  },
  {
   "cell_type": "code",
   "execution_count": null,
   "id": "bc13406b-a2be-4199-b5aa-8bd7cc297a40",
   "metadata": {},
   "outputs": [],
   "source": [
    "for i in range(10000):\n",
    "    file_name = f\"{df['review_id'].iloc[i]}.txt\"\n",
    "    file_path = review_dir / file_name\n",
    "    r = f\"Review:\\n{df['review_text'].iloc[i]}\"\n",
    "\n",
    "    with file_path.open(\"w\", encoding=\"utf-8\") as f:\n",
    "        f.write(str(r))"
   ]
  },
  {
   "cell_type": "markdown",
   "id": "9033f3ba-388b-4064-93f9-928670860282",
   "metadata": {},
   "source": [
    "# Build bot"
   ]
  },
  {
   "cell_type": "code",
   "execution_count": null,
   "id": "e5b22d5d-f1bb-4344-9893-4cb4e149c874",
   "metadata": {},
   "outputs": [],
   "source": [
    "from llama_index.core.evaluation import FaithfulnessEvaluator\n",
    "from llama_index.core import Settings\n",
    "from llama_index.llms.ollama import Ollama\n",
    "from llama_index.core import SimpleDirectoryReader\n",
    "from llama_index.core import VectorStoreIndex"
   ]
  },
  {
   "cell_type": "code",
   "execution_count": null,
   "id": "c881ebe4-3a13-48cd-8bd0-43d8527c39fc",
   "metadata": {},
   "outputs": [],
   "source": [
    "filename_fn = lambda filename: {\"file_name\": filename}\n",
    "documents = SimpleDirectoryReader(\"./reviews\", file_metadata=filename_fn).load_data()"
   ]
  },
  {
   "cell_type": "code",
   "execution_count": null,
   "id": "0207d2f3-fef0-4516-948f-a16bde370c3b",
   "metadata": {},
   "outputs": [],
   "source": [
    "from llama_index.embeddings.huggingface import HuggingFaceEmbedding"
   ]
  },
  {
   "cell_type": "code",
   "execution_count": null,
   "id": "088632d4-7c45-402d-89c1-8366497dae81",
   "metadata": {},
   "outputs": [],
   "source": [
    "from llama_index.embeddings.ollama import OllamaEmbedding"
   ]
  },
  {
   "cell_type": "code",
   "execution_count": null,
   "id": "8897b2aa-b67b-430c-bdef-4ac2e1e5b724",
   "metadata": {},
   "outputs": [],
   "source": [
    "ollama_embedding = OllamaEmbedding(\n",
    "    model_name=\"tinyllama:latest\",\n",
    "    base_url=\"http://localhost:11434\",\n",
    ")\n",
    "\n",
    "llm = Ollama(model=\"tinyllama:latest\", request_timeout=120.0)"
   ]
  },
  {
   "cell_type": "code",
   "execution_count": null,
   "id": "0cd5d42b-d3e3-4d17-9756-4db8fb53981a",
   "metadata": {},
   "outputs": [],
   "source": [
    "Settings.embed_model = ollama_embedding"
   ]
  },
  {
   "cell_type": "code",
   "execution_count": null,
   "id": "95ad2d79-6783-478e-8055-0b1998922229",
   "metadata": {},
   "outputs": [],
   "source": [
    "Settings.llm = llm"
   ]
  },
  {
   "cell_type": "code",
   "execution_count": null,
   "id": "b64bb04a-52ad-4a60-8275-8dde74c2d4ea",
   "metadata": {},
   "outputs": [],
   "source": [
    "index = VectorStoreIndex.from_documents(documents)\n",
    "evaluator = FaithfulnessEvaluator(llm=llm)"
   ]
  },
  {
   "cell_type": "code",
   "execution_count": null,
   "id": "8c2b7c2c-f3a1-48e9-a914-154830464d5c",
   "metadata": {},
   "outputs": [],
   "source": [
    "query_engine = index.as_query_engine()"
   ]
  },
  {
   "cell_type": "code",
   "execution_count": null,
   "id": "8198c19e-e08b-4fa0-a380-b902f0b2ab7a",
   "metadata": {},
   "outputs": [],
   "source": [
    "response = query_engine.query(\"In comparison to our application, which music streaming platform are users most likely to compare ours with?\")\n",
    "print(response)"
   ]
  },
  {
   "cell_type": "code",
   "execution_count": null,
   "id": "3c0208df-ff82-416b-986f-755e393d12b9",
   "metadata": {},
   "outputs": [],
   "source": []
  },
  {
   "cell_type": "code",
   "execution_count": null,
   "id": "2c37ef64-ad30-4d8e-9d4e-8aa14949a991",
   "metadata": {},
   "outputs": [],
   "source": [
    "import nest_asyncio\n",
    "nest_asyncio.apply()"
   ]
  },
  {
   "cell_type": "code",
   "execution_count": null,
   "id": "f1466959-a03b-45ac-89d7-a8a4fab0baad",
   "metadata": {},
   "outputs": [],
   "source": [
    "eval_result = evaluator.evaluate_response(response=response)"
   ]
  },
  {
   "cell_type": "code",
   "execution_count": null,
   "id": "34e9d4a4-e417-4163-8238-8bcad99dce5c",
   "metadata": {},
   "outputs": [],
   "source": [
    "eval_result"
   ]
  },
  {
   "cell_type": "code",
   "execution_count": null,
   "id": "af66e466-c63d-478d-9253-cd01bf1a484a",
   "metadata": {},
   "outputs": [],
   "source": []
  }
 ],
 "metadata": {
  "kernelspec": {
   "display_name": "Python 3 (ipykernel)",
   "language": "python",
   "name": "python3"
  },
  "language_info": {
   "codemirror_mode": {
    "name": "ipython",
    "version": 3
   },
   "file_extension": ".py",
   "mimetype": "text/x-python",
   "name": "python",
   "nbconvert_exporter": "python",
   "pygments_lexer": "ipython3",
   "version": "3.11.10"
  }
 },
 "nbformat": 4,
 "nbformat_minor": 5
}
