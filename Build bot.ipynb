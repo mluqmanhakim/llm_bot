{
  "nbformat": 4,
  "nbformat_minor": 0,
  "metadata": {
    "colab": {
      "provenance": [],
      "gpuType": "T4"
    },
    "kernelspec": {
      "name": "python3",
      "display_name": "Python 3"
    },
    "language_info": {
      "name": "python"
    },
    "accelerator": "GPU"
  },
  "cells": [
    {
      "cell_type": "markdown",
      "source": [
        "# Build RAG for reviews data"
      ],
      "metadata": {
        "id": "HoaeRq-QDpNP"
      }
    },
    {
      "cell_type": "code",
      "source": [
        "%pip install llama-index\n",
        "%pip install llama-index-embeddings-ollama\n",
        "%pip install llama-index-llms-ollama\n",
        "!pip install colab-xterm\n",
        "%load_ext colabxterm\n",
        "%pip install llama-index-embeddings-huggingface"
      ],
      "metadata": {
        "id": "fC2qfXNL785n"
      },
      "execution_count": null,
      "outputs": []
    },
    {
      "cell_type": "code",
      "source": [
        "%xterm\n",
        "\n",
        "# curl -fsSL https://ollama.com/install.sh | sh\n",
        "# ollama serve &\n",
        "# ollama pull tinyllama"
      ],
      "metadata": {
        "id": "jWDO7Nku7KqY"
      },
      "execution_count": null,
      "outputs": []
    },
    {
      "cell_type": "code",
      "source": [
        "import pandas as pd\n",
        "from pathlib import Path\n",
        "\n",
        "from llama_index.llms.ollama import Ollama\n",
        "from llama_index.embeddings.ollama import OllamaEmbedding\n",
        "from llama_index.core import Document, DocumentSummaryIndex, SimpleDirectoryReader, VectorStoreIndex, PromptTemplate, Settings\n",
        "from llama_index.core.retrievers import VectorIndexRetriever\n",
        "from llama_index.embeddings.huggingface import HuggingFaceEmbedding"
      ],
      "metadata": {
        "id": "bpq8x-KI7Kmx"
      },
      "execution_count": null,
      "outputs": []
    },
    {
      "cell_type": "markdown",
      "source": [
        "## Preprocess data"
      ],
      "metadata": {
        "id": "3Yi_ZZ8CDaQH"
      }
    },
    {
      "cell_type": "code",
      "source": [
        "from google.colab import drive\n",
        "drive.mount('/content/drive')"
      ],
      "metadata": {
        "colab": {
          "base_uri": "https://localhost:8080/"
        },
        "id": "wOE0eEoxn-JT",
        "outputId": "b76ac593-14fd-40f5-9311-63aac2a9d957"
      },
      "execution_count": null,
      "outputs": [
        {
          "output_type": "stream",
          "name": "stdout",
          "text": [
            "Mounted at /content/drive\n"
          ]
        }
      ]
    },
    {
      "cell_type": "code",
      "source": [
        "# p = '/content/drive/MyDrive/Colab Notebooks/MEKARI_REVIEWS.csv'\n",
        "p = '/content/drive/MyDrive/MEKARI_REVIEWS.csv'\n",
        "df = pd.read_csv(p)"
      ],
      "metadata": {
        "id": "C81vn0cj7Gc0"
      },
      "execution_count": null,
      "outputs": []
    },
    {
      "cell_type": "code",
      "source": [
        "documents = []\n",
        "for i in range(50000):\n",
        "    row = df.iloc[i]\n",
        "    r = f\"{row['review_text']}\"\n",
        "    documents.append(Document(text=r))"
      ],
      "metadata": {
        "id": "YrVza0YE9CIf"
      },
      "execution_count": null,
      "outputs": []
    },
    {
      "cell_type": "markdown",
      "source": [
        "## Build vector index from documents"
      ],
      "metadata": {
        "id": "X03ExZzsDPrf"
      }
    },
    {
      "cell_type": "code",
      "source": [
        "# embed_model = OllamaEmbedding(\n",
        "#     model_name=\"tinyllama:latest\",\n",
        "#     base_url=\"http://localhost:11434\",\n",
        "# )\n",
        "\n",
        "embed_model = HuggingFaceEmbedding(model_name=\"BAAI/bge-small-en-v1.5\")\n",
        "\n",
        "llm = Ollama(model=\"tinyllama:latest\", request_timeout=120.0)\n",
        "\n",
        "Settings.embed_model = embed_model\n",
        "Settings.llm = llm"
      ],
      "metadata": {
        "id": "BhAVWBv88sYS"
      },
      "execution_count": null,
      "outputs": []
    },
    {
      "cell_type": "code",
      "source": [
        "# from llama_index.core.node_parser import SentenceSplitter\n",
        "# from llama_index.core.indices.document_summary import DocumentSummaryIndexLLMRetriever\n",
        "\n",
        "# splitter = SentenceSplitter(chunk_size=1024)\n",
        "\n",
        "# index = DocumentSummaryIndex.from_documents(\n",
        "#     documents,\n",
        "#     llm=llm,\n",
        "#     transformations=[splitter],\n",
        "#     show_progress=True,\n",
        "# )\n",
        "\n",
        "# retriever = DocumentSummaryIndexLLMRetriever(\n",
        "#     index,\n",
        "#     choice_top_k=2,\n",
        "# )"
      ],
      "metadata": {
        "id": "J0uXKh5IvpmM"
      },
      "execution_count": null,
      "outputs": []
    },
    {
      "cell_type": "code",
      "source": [
        "index = VectorStoreIndex.from_documents(documents)"
      ],
      "metadata": {
        "id": "_ssONkYj8sVf"
      },
      "execution_count": null,
      "outputs": []
    },
    {
      "cell_type": "code",
      "source": [
        "retriever = VectorIndexRetriever(\n",
        "    index=index,\n",
        "    similarity_top_k=3,\n",
        ")"
      ],
      "metadata": {
        "id": "hOjk53cq8sSB"
      },
      "execution_count": null,
      "outputs": []
    },
    {
      "cell_type": "markdown",
      "source": [
        "## Prepare prompt"
      ],
      "metadata": {
        "id": "ybfDniE9CrkY"
      }
    },
    {
      "cell_type": "code",
      "source": [
        "query = 'what are most frequent spotify reviews?'\n",
        "query_context = retriever.retrieve(query)\n",
        "\n",
        "context_str = ''\n",
        "for i in range(len(query_context)):\n",
        "    context_str += query_context[0].get_content() + '. \\n'"
      ],
      "metadata": {
        "id": "1RYopOX1TC0V"
      },
      "execution_count": null,
      "outputs": []
    },
    {
      "cell_type": "code",
      "source": [
        "for i in range(len(query_context)):\n",
        "    print(query_context[i].text, query_context[i].score)"
      ],
      "metadata": {
        "colab": {
          "base_uri": "https://localhost:8080/"
        },
        "id": "K9RaUqBcCcav",
        "outputId": "ef6d2927-50b0-4b35-a898-71db4083b2b4"
      },
      "execution_count": null,
      "outputs": [
        {
          "output_type": "stream",
          "name": "stdout",
          "text": [
            "Spotify is number one 0.8136731813565282\n",
            "I listen to Spotify every day! Great quality, and it has most of the songs I look for! 0.8049787874569584\n",
            "Best of on spotify 0.8030445132185673\n"
          ]
        }
      ]
    },
    {
      "cell_type": "code",
      "source": [
        "template = (\n",
        "    \"We have provided context information below. \\n\"\n",
        "    \"---------------------\\n\"\n",
        "    \"{context_str}\"\n",
        "    \"\\n---------------------\\n\"\n",
        "    \"Given this information, please answer the question: {query_str}\\n\"\n",
        ")\n",
        "qa_template = PromptTemplate(template)"
      ],
      "metadata": {
        "id": "fk2Rfm9sH2LZ"
      },
      "execution_count": null,
      "outputs": []
    },
    {
      "cell_type": "code",
      "source": [
        "prompt = qa_template.format(context_str=context_str, query_str=query)"
      ],
      "metadata": {
        "id": "0qT5kJJbH2Hp"
      },
      "execution_count": null,
      "outputs": []
    },
    {
      "cell_type": "markdown",
      "source": [
        "## Get response from LLM"
      ],
      "metadata": {
        "id": "cYIjye0_DEwf"
      }
    },
    {
      "cell_type": "code",
      "source": [
        "resp = llm.complete(prompt)"
      ],
      "metadata": {
        "id": "a50D1Hg93Z77"
      },
      "execution_count": null,
      "outputs": []
    },
    {
      "cell_type": "code",
      "source": [
        "resp.text"
      ],
      "metadata": {
        "id": "EmE1PriZ5s5a"
      },
      "execution_count": null,
      "outputs": []
    },
    {
      "cell_type": "code",
      "source": [],
      "metadata": {
        "id": "6uWmR33_mqdl"
      },
      "execution_count": null,
      "outputs": []
    },
    {
      "cell_type": "markdown",
      "source": [
        "## Save vector index"
      ],
      "metadata": {
        "id": "U_NPpm_k0fvS"
      }
    },
    {
      "cell_type": "code",
      "source": [
        "index.storage_context.persist(\"bot_index\")"
      ],
      "metadata": {
        "id": "8OR5DIw86nNY"
      },
      "execution_count": null,
      "outputs": []
    },
    {
      "cell_type": "code",
      "source": [
        "!zip -r bot_index.zip bot_index"
      ],
      "metadata": {
        "id": "yghphi_TE6Fd",
        "colab": {
          "base_uri": "https://localhost:8080/"
        },
        "outputId": "c31b892d-6422-481f-89c8-94645fb6c31b"
      },
      "execution_count": null,
      "outputs": [
        {
          "output_type": "stream",
          "name": "stdout",
          "text": [
            "  adding: bot_index/ (stored 0%)\n",
            "  adding: bot_index/graph_store.json (stored 0%)\n",
            "  adding: bot_index/image__vector_store.json (deflated 19%)\n",
            "  adding: bot_index/index_store.json (deflated 68%)\n",
            "  adding: bot_index/.ipynb_checkpoints/ (stored 0%)\n",
            "  adding: bot_index/docstore.json (deflated 72%)\n",
            "  adding: bot_index/default__vector_store.json (deflated 58%)\n"
          ]
        }
      ]
    },
    {
      "cell_type": "code",
      "source": [
        "from google.colab import files\n",
        "files.download('/content/bot_index.zip')"
      ],
      "metadata": {
        "colab": {
          "base_uri": "https://localhost:8080/",
          "height": 34
        },
        "id": "wh4GLnXl016r",
        "outputId": "59ffd2f7-65f8-4e56-f909-aa06b0ad57db"
      },
      "execution_count": null,
      "outputs": [
        {
          "output_type": "display_data",
          "data": {
            "text/plain": [
              "<IPython.core.display.Javascript object>"
            ],
            "application/javascript": [
              "\n",
              "    async function download(id, filename, size) {\n",
              "      if (!google.colab.kernel.accessAllowed) {\n",
              "        return;\n",
              "      }\n",
              "      const div = document.createElement('div');\n",
              "      const label = document.createElement('label');\n",
              "      label.textContent = `Downloading \"${filename}\": `;\n",
              "      div.appendChild(label);\n",
              "      const progress = document.createElement('progress');\n",
              "      progress.max = size;\n",
              "      div.appendChild(progress);\n",
              "      document.body.appendChild(div);\n",
              "\n",
              "      const buffers = [];\n",
              "      let downloaded = 0;\n",
              "\n",
              "      const channel = await google.colab.kernel.comms.open(id);\n",
              "      // Send a message to notify the kernel that we're ready.\n",
              "      channel.send({})\n",
              "\n",
              "      for await (const message of channel.messages) {\n",
              "        // Send a message to notify the kernel that we're ready.\n",
              "        channel.send({})\n",
              "        if (message.buffers) {\n",
              "          for (const buffer of message.buffers) {\n",
              "            buffers.push(buffer);\n",
              "            downloaded += buffer.byteLength;\n",
              "            progress.value = downloaded;\n",
              "          }\n",
              "        }\n",
              "      }\n",
              "      const blob = new Blob(buffers, {type: 'application/binary'});\n",
              "      const a = document.createElement('a');\n",
              "      a.href = window.URL.createObjectURL(blob);\n",
              "      a.download = filename;\n",
              "      div.appendChild(a);\n",
              "      a.click();\n",
              "      div.remove();\n",
              "    }\n",
              "  "
            ]
          },
          "metadata": {}
        },
        {
          "output_type": "display_data",
          "data": {
            "text/plain": [
              "<IPython.core.display.Javascript object>"
            ],
            "application/javascript": [
              "download(\"download_06ed48fe-a243-467c-8a49-32598a78d97f\", \"bot_index.zip\", 202794026)"
            ]
          },
          "metadata": {}
        }
      ]
    }
  ]
}