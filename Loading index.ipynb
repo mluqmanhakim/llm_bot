{
 "cells": [
  {
   "cell_type": "code",
   "execution_count": 12,
   "id": "0e4c7f07-5221-43b8-8aa7-fdc736ded186",
   "metadata": {},
   "outputs": [],
   "source": [
    "from llama_index.core import StorageContext, load_index_from_storage\n",
    "from llama_index.llms.ollama import Ollama\n",
    "from llama_index.core import Settings\n",
    "from llama_index.embeddings.huggingface import HuggingFaceEmbedding"
   ]
  },
  {
   "cell_type": "code",
   "execution_count": 8,
   "id": "0fe1c4a9-3fcc-45a4-ab69-ffa660bbb9cc",
   "metadata": {},
   "outputs": [],
   "source": [
    "storage_context = StorageContext.from_defaults(persist_dir=\"bot_index\")\n",
    "new_index = load_index_from_storage(storage_context)"
   ]
  },
  {
   "cell_type": "code",
   "execution_count": 24,
   "id": "a9d13f73-ecc4-4e8b-bf7b-1933f066d05f",
   "metadata": {},
   "outputs": [],
   "source": [
    "# query_engine = new_index.as_query_engine()"
   ]
  },
  {
   "cell_type": "code",
   "execution_count": 13,
   "id": "2559ef66-3952-4ded-8a5d-5631ba9c2e9b",
   "metadata": {},
   "outputs": [],
   "source": [
    "llm = Ollama(model=\"tinyllama:latest\", request_timeout=120.0)\n",
    "embed_model = HuggingFaceEmbedding(model_name=\"BAAI/bge-small-en-v1.5\")"
   ]
  },
  {
   "cell_type": "code",
   "execution_count": 14,
   "id": "8949da33-87ab-4030-a0b7-7b4bef994f3b",
   "metadata": {},
   "outputs": [],
   "source": [
    "Settings.llm = llm\n",
    "Settings.embed_model = embed_model"
   ]
  },
  {
   "cell_type": "code",
   "execution_count": 18,
   "id": "9d81ec26-442c-420f-9919-4fe36f5baf2f",
   "metadata": {},
   "outputs": [],
   "source": [
    "eng = new_index.as_chat_engine(chat_mode=\"condense_question\", verbose=True)"
   ]
  },
  {
   "cell_type": "code",
   "execution_count": 19,
   "id": "652f406e-1359-498a-b240-50da851d3ada",
   "metadata": {},
   "outputs": [
    {
     "name": "stdout",
     "output_type": "stream",
     "text": [
      "Querying with: What are the specific features or aspects that users appreciate the most in our application?\n"
     ]
    }
   ],
   "source": [
    "r = eng.chat(\"What are the specific features or aspects that users appreciate the most in our application?\")"
   ]
  },
  {
   "cell_type": "code",
   "execution_count": 23,
   "id": "6032aeae-4e71-4c59-ad88-1971a4288a5b",
   "metadata": {},
   "outputs": [
    {
     "data": {
      "text/plain": [
       "\"Sure! Here's a revised version of the answer with appropriate context information to follow:\\n\\nThe app for music is popular among users because it offers various features, such as customizable playlists, advanced search options, and access to popular songs from different genres. The users appreciate these features because they allow them to discover new music or select songs based on their personal preferences, making the app an excellent listening experience.\""
      ]
     },
     "execution_count": 23,
     "metadata": {},
     "output_type": "execute_result"
    }
   ],
   "source": [
    "r.response"
   ]
  },
  {
   "cell_type": "code",
   "execution_count": null,
   "id": "2879687e-9e9c-471e-9eb4-d46d4ad054af",
   "metadata": {},
   "outputs": [],
   "source": []
  }
 ],
 "metadata": {
  "kernelspec": {
   "display_name": "Python 3 (ipykernel)",
   "language": "python",
   "name": "python3"
  },
  "language_info": {
   "codemirror_mode": {
    "name": "ipython",
    "version": 3
   },
   "file_extension": ".py",
   "mimetype": "text/x-python",
   "name": "python",
   "nbconvert_exporter": "python",
   "pygments_lexer": "ipython3",
   "version": "3.11.10"
  }
 },
 "nbformat": 4,
 "nbformat_minor": 5
}
